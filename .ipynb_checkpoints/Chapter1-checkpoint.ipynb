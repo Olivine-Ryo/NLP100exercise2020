{
 "cells": [
  {
   "cell_type": "code",
   "execution_count": 1,
   "metadata": {},
   "outputs": [
    {
     "name": "stdout",
     "output_type": "stream",
     "text": [
      "desserts\n"
     ]
    }
   ],
   "source": [
    "s = \"stressed\"\n",
    "print(s[::-1])"
   ]
  },
  {
   "cell_type": "code",
   "execution_count": 2,
   "metadata": {},
   "outputs": [
    {
     "name": "stdout",
     "output_type": "stream",
     "text": [
      "パトカー\n"
     ]
    }
   ],
   "source": [
    "s = \"パタトクカシーー\"\n",
    "print(s[::2])"
   ]
  },
  {
   "cell_type": "code",
   "execution_count": 3,
   "metadata": {},
   "outputs": [
    {
     "name": "stdout",
     "output_type": "stream",
     "text": [
      "パタトクカシーー\n"
     ]
    }
   ],
   "source": [
    "s = \"パトカー\"\n",
    "t = \"タクシー\"\n",
    "print(\"\".join([i+j for i,j in zip(s,t)]))"
   ]
  },
  {
   "cell_type": "code",
   "execution_count": 5,
   "metadata": {},
   "outputs": [
    {
     "name": "stdout",
     "output_type": "stream",
     "text": [
      "[3, 1, 4, 1, 6, 9, 2, 7, 5, 3, 5, 8, 9, 7, 10]\n"
     ]
    }
   ],
   "source": [
    "s = \"Now I need a drink, alcoholic of course, after the heavy lectures involving quantum mechanics.\"\n",
    "print([len(i) for i in s.split(\" \")])"
   ]
  },
  {
   "cell_type": "code",
   "execution_count": 8,
   "metadata": {},
   "outputs": [
    {
     "name": "stdout",
     "output_type": "stream",
     "text": [
      "{'Hi': 'H', 'He': 'He', 'Lied': 'Li', 'Because': 'Be', 'Boron': 'B', 'Could': 'C', 'Not': 'N', 'Oxidize': 'O', 'Fluorine.': 'F', 'New': 'Ne', 'Nations': 'Na', 'Might': 'Mi', 'Also': 'Al', 'Sign': 'Si', 'Peace': 'P', 'Security': 'S', 'Clause.': 'Cl', 'Arthur': 'Ar', 'King': 'K', 'Can.': 'Ca'}\n"
     ]
    }
   ],
   "source": [
    "s = \"Hi He Lied Because Boron Could Not Oxidize Fluorine. New Nations Might Also Sign Peace Security Clause. Arthur King Can.\"\n",
    "d = dict()\n",
    "for i,w in enumerate(s.split(\" \")):\n",
    "    if i in (0,4,5,6,7,8,14,15,18):\n",
    "        d[w] = w[0]\n",
    "    else:\n",
    "        d[w] = w[0:2]\n",
    "print(d)"
   ]
  },
  {
   "cell_type": "code",
   "execution_count": 34,
   "metadata": {},
   "outputs": [],
   "source": [
    "def f5(l):\n",
    "    l = l.split(\" \")\n",
    "    bigram = set()\n",
    "    for i,j in zip(l[:-1],l[1:]):\n",
    "        bigram.add((i,j))\n",
    "    return bigram\n",
    "def f6(s):\n",
    "    bigram = set()\n",
    "    for i,j in zip(s[:-1],s[1:]):\n",
    "        bigram.add(i+j)\n",
    "    return bigram"
   ]
  },
  {
   "cell_type": "code",
   "execution_count": 36,
   "metadata": {},
   "outputs": [
    {
     "name": "stdout",
     "output_type": "stream",
     "text": [
      "{('I', 'am'), ('an', 'NLPer'), ('am', 'an')}\n",
      "{'m ', 'NL', 'I ', 'LP', 'er', 'an', 'am', ' N', ' a', 'Pe', 'n '}\n"
     ]
    }
   ],
   "source": [
    "s = \"I am an NLPer\"\n",
    "print(f5(s))\n",
    "print(f6(s))"
   ]
  },
  {
   "cell_type": "code",
   "execution_count": 35,
   "metadata": {},
   "outputs": [
    {
     "name": "stdout",
     "output_type": "stream",
     "text": [
      "{'gr', 'ar', 'ad', 'ra', 'ap', 'di', 'pa', 'ag', 'ph', 'se', 'is'}\n",
      "{'ra', 'pa', 'ar', 'ap'}\n",
      "{'gr', 'ad', 'ag', 'di', 'ph', 'is', 'se'}\n",
      "{'gr', 'ad', 'ag', 'di', 'ph', 'se', 'is'}\n",
      "True False\n"
     ]
    }
   ],
   "source": [
    "s = \"paraparaparadise\"\n",
    "t = \"paragraph\"\n",
    "print(f6(s) | f6(t))\n",
    "print(f6(s) & f6(t))\n",
    "print(f6(s) ^ f6(t))\n",
    "print(f6(t) ^ f6(s))\n",
    "print(\"se\" in f6(s), \"se\" in f6(t))"
   ]
  },
  {
   "cell_type": "code",
   "execution_count": 9,
   "metadata": {},
   "outputs": [
    {
     "name": "stdout",
     "output_type": "stream",
     "text": [
      "12時の気温は22.4\n"
     ]
    }
   ],
   "source": [
    "def f7(x,y,z):\n",
    "    return \"{0}時の{1}は{2}\".format(x,y,z)\n",
    "print(f7(12,\"気温\",22.4))"
   ]
  },
  {
   "cell_type": "code",
   "execution_count": 14,
   "metadata": {},
   "outputs": [
    {
     "name": "stdout",
     "output_type": "stream",
     "text": [
      "[103, 108, 112, 98, 108]\n"
     ]
    }
   ],
   "source": [
    "def cipher(s):\n",
    "    if s.islower():\n",
    "        return [219 - ord(w) for w in s]\n",
    "    else:\n",
    "        return s\n",
    "print(cipher(\"tokyo\"))"
   ]
  },
  {
   "cell_type": "code",
   "execution_count": null,
   "metadata": {},
   "outputs": [],
   "source": [
    "s = \"I couldn’t believe that I could actually understand what I was reading : the phenomenal power of the human mind .\""
   ]
  }
 ],
 "metadata": {
  "kernelspec": {
   "display_name": "Python 3",
   "language": "python",
   "name": "python3"
  },
  "language_info": {
   "codemirror_mode": {
    "name": "ipython",
    "version": 3
   },
   "file_extension": ".py",
   "mimetype": "text/x-python",
   "name": "python",
   "nbconvert_exporter": "python",
   "pygments_lexer": "ipython3",
   "version": "3.8.2"
  }
 },
 "nbformat": 4,
 "nbformat_minor": 4
}
